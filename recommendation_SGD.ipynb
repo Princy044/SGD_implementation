{
 "cells": [
  {
   "cell_type": "markdown",
   "metadata": {
    "id": "YeM0ZBWUVtXR"
   },
   "source": [
    "# <font color='red'>SGD Algorithm to predict movie ratings</font>"
   ]
  },
  {
   "cell_type": "markdown",
   "metadata": {
    "id": "M2vyJqSlmmjM"
   },
   "source": [
    "**There will be some functions that start with the word \"grader\" ex: grader_matrix(), grader_mean(), grader_dim() etc, you should not change those function definition.<br><br>Every Grader function has to return True.**"
   ]
  },
  {
   "cell_type": "markdown",
   "metadata": {
    "id": "AL6njTf8WBO0"
   },
   "source": [
    "<pre>\n",
    "1. Download the data from <a href='https://drive.google.com/open?id=1-1z7iDB52cB6_JpO7Dqa-eOYSs-mivpq'> here </a>\n",
    "2. The data will be of this format, each data point is represented as a triplet of user_id, movie_id and rating \n",
    "<table>\n",
    "<tr><th>user_id</th><th>movie_id</th><th>rating</th></tr>\n",
    "<tr><td>77</td><td>236</td><td>3</td></tr>\n",
    "<tr><td>471</td><td>208</td><td>5</td></tr>\n",
    "<tr><td>641</td><td>401</td><td>4</td></tr>\n",
    "<tr><td>31</td><td>298</td><td>4</td></tr>\n",
    "<tr><td>58</td><td>504</td><td>5</td></tr>\n",
    "<tr><td>235</td><td>727</td><td>5</td></tr>\n",
    "</table>"
   ]
  },
  {
   "cell_type": "markdown",
   "metadata": {
    "id": "73dhFsT0WSSB"
   },
   "source": [
    "## <font color='red'>Task 1</font>"
   ]
  },
  {
   "cell_type": "markdown",
   "metadata": {
    "id": "HY0frS6EWaEV"
   },
   "source": [
    "<font color='red'><b>Predict the rating for a given (user_id, movie_id) pair </b> </font>\n"
   ]
  },
  {
   "cell_type": "markdown",
   "metadata": {
    "id": "R-ISYxaVbT8L"
   },
   "source": [
    "Predicted rating $\\hat{y}_{ij}$ for user i, movied j pair is calcuated as $\\hat{y}_{ij} = \\mu + b_i + c_j + u_i^T v_j$ , here we will be finding the best values of $b_{i}$ and $c_{j}$ using SGD algorithm with the optimization problem for N users and M movies is defined as"
   ]
  },
  {
   "cell_type": "markdown",
   "metadata": {
    "id": "8Aj8SXeQWlZd"
   },
   "source": [
    "$$\n",
    "L = \\min_{ b, c, \\{ u_i \\}_{i=1}^N, \\{ v_j \\}_{j=1}^M}\n",
    "\\quad\n",
    "\\alpha \\Big(\n",
    "    \\sum_{j} \\sum_{k} v_{jk}^2 \n",
    "    + \\sum_{i} \\sum_{k} u_{ik}^2 \n",
    "    + \\sum_{i} b_i^2\n",
    "    + \\sum_{j} c_i^2\n",
    "    \\Big)\n",
    "+ \\sum_{i,j \\in \\mathcal{I}^{\\text{train}}}\n",
    "    (y_{ij} - \\mu - b_i - c_j - u_i^T v_j)^2\n",
    "$$"
   ]
  },
  {
   "cell_type": "markdown",
   "metadata": {
    "id": "2Q5bnWyZXrM7"
   },
   "source": [
    "<ul>\n",
    "<li><span class=\"math\">\\(\\mu\\)</span> : scalar mean rating</li>\n",
    "<li><span class=\"math\">\\(b_i\\)</span> : scalar bias term for user <span class=\"math\">\\(i\\)</span></li>\n",
    "<li><span class=\"math\">\\(c_j\\)</span> : scalar bias term for movie <span class=\"math\">\\(j\\)</span></li>\n",
    "<li><span class=\"math\">\\(u_i\\)</span> : K-dimensional vector for user <span class=\"math\">\\(i\\)</span></li>\n",
    "<li><span class=\"math\">\\(v_j\\)</span> : K-dimensional vector for movie <span class=\"math\">\\(j\\)</span></li>\n",
    "</ul>\n",
    "\n",
    " $ \\ $\n"
   ]
  },
  {
   "cell_type": "markdown",
   "metadata": {
    "id": "q1cf4CunbEr4"
   },
   "source": [
    "\n",
    "\n",
    "\n",
    "*.  We will be giving you some functions, please write code in that functions only.\n",
    "\n",
    "*.  After every function, we will be giving you expected output, please make sure that you get that output. \n",
    "\n",
    "\n",
    "\n"
   ]
  },
  {
   "cell_type": "markdown",
   "metadata": {
    "id": "ZWQyB5hfy3u7"
   },
   "source": [
    "1. Construct adjacency matrix with the given data, assuming its  <a href='https://en.wikipedia.org/wiki/Bipartite_graph'> weighted un-directed bi-partited graph</a> and the weight of each edge is the rating given by user to the movie\n",
    "\n",
    "<img src='https://i.imgur.com/rmUCGMb.jpg' width=200>\n",
    "\n",
    "   you can construct this matrix like $A[i][j]=r_{ij}$ here $i$ is user_id, $j$ is movie_id and $r_{ij}$ is rating given by user $i$ to the movie $j$\n",
    "\n",
    "   Hint : you can create adjacency matrix using <a href='https://docs.scipy.org/doc/scipy/reference/generated/scipy.sparse.csr_matrix.html'> csr_matrix</a>\n",
    "\n",
    "2. We will Apply SVD decomposition on the Adjaceny matrix <a href='https://stackoverflow.com/a/31528944/4084039'>link1</a>, <a href='https://machinelearningmastery.com/singular-value-decomposition-for-machine-learning/'> link2</a> and get three matrices $U, \\sum, V$ such that $U \\times \\sum \\times V^T = A$, <br> \n",
    "if $A$ is of dimensions $N \\times M$ then <br>\n",
    "U is of $N \\times k$, <br>\n",
    "$\\sum$ is of $k \\times k$ and <br>\n",
    "$V$ is $M \\times k$ dimensions. <br>\n",
    "\n",
    "   *.  So the matrix $U$ can be represented as matrix representation of users, where each row $u_{i}$ represents a k-dimensional vector for a user\n",
    "\n",
    "   *. So the matrix $V$ can be represented as matrix representation of movies, where each row $v_{j}$ represents a k-dimensional vector for a movie.\n",
    "3. Compute $\\mu$ , $\\mu$  represents the mean of all the rating given in the dataset.(write your code in <font color='blue'>def m_u()</font>)\n",
    "4. For each unique user initilize a bias value $B_{i}$ to zero, so if we have $N$ users $B$ will be a $N$ dimensional vector, the $i^{th}$ value of the $B$ will corresponds to the bias term for $i^{th}$ user (write your code in <font color='blue'>def initialize()</font>)\n",
    "\n",
    "5. For each unique movie initilize a bias value $C_{j}$ zero, so if we have $M$ movies $C$ will be a $M$ dimensional vector, the $j^{th}$ value of the $C$ will corresponds to the bias term for $j^{th}$ movie (write your code in <font color='blue'>def initialize()</font>)\n",
    "\n",
    "6. Compute dL/db_i (Write you code in <font color='blue'> def derivative_db()</font>)\n",
    "7. Compute dL/dc_j(write your code in <font color='blue'> def derivative_dc()</font>\n",
    "\n",
    "8. Print the mean squared error with predicted ratings.\n",
    "\n",
    "<pre>\n",
    "for each epoch:\n",
    "    for each pair of (user, movie):\n",
    "        b_i =  b_i - learning_rate * dL/db_i\n",
    "        c_j =  c_j - learning_rate * dL/dc_j\n",
    "predict the ratings with formula\n",
    "</pre>\n",
    "$\\hat{y}_{ij} = \\mu + b_i + c_j + \\text{dot_product}(u_i , v_j) $\n",
    "\n",
    "9. you can choose any learning rate and regularization term in the range $10^{-3}  \\text{ to } 10^2$  <br>\n",
    "  \n",
    "10. __bonus__: instead of using SVD decomposition you can learn the vectors $u_i$, $v_j$ with the help of SGD algo similar to $b_i$ and $c_j$ "
   ]
  },
  {
   "cell_type": "markdown",
   "metadata": {
    "id": "3-aBnRepA6gy"
   },
   "source": [
    "<br>"
   ]
  },
  {
   "cell_type": "markdown",
   "metadata": {
    "id": "IP_6xMAZA4mE"
   },
   "source": [
    " # <font color='red'>Task 2 </font>"
   ]
  },
  {
   "cell_type": "markdown",
   "metadata": {
    "id": "-9HCN_3WA2au"
   },
   "source": [
    "As we know U is the learned matrix of user vectors, with its i-th row as the vector ui for user i. Each row of U can be seen as a \"feature vector\" for a particular user.\n",
    "\n",
    "The question we'd like to investigate is this: do our computed per-user features that are optimized for predicting movie ratings contain anything to do with gender?\n",
    "\n",
    "The provided data file <a href='https://drive.google.com/open?id=1PHFdJh_4gIPiLH5Q4UErH8GK71hTrzlY'>user_info.csv</a> contains an is_male column indicating which users in the dataset are male. Can you predict this signal given the features U?\n",
    "\n",
    "\n",
    "> __Note 1__ : there is no train test split in the data, the goal of this assignment is to give an intution about how to do matrix factorization with the help of SGD and application of truncated SVD. for better understanding of the collabarative fillerting please check netflix case study. <br><br>\n",
    "> __Note 2__ : Check if scaling of $U$, $V$ matrices improve the metric "
   ]
  },
  {
   "cell_type": "markdown",
   "metadata": {
    "id": "ovFCo1JCBIXM"
   },
   "source": [
    "<br>\n",
    "\n",
    "\n",
    "<br>"
   ]
  },
  {
   "cell_type": "markdown",
   "metadata": {
    "id": "iVJo-3njBQLf"
   },
   "source": [
    "<font color='red'> Reading the csv file </font>"
   ]
  },
  {
   "cell_type": "code",
   "execution_count": 268,
   "metadata": {
    "colab": {
     "base_uri": "https://localhost:8080/",
     "height": 73,
     "resources": {
      "http://localhost:8080/nbextensions/google.colab/files.js": {
       "data": "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",
       "headers": [
        [
         "content-type",
         "application/javascript"
        ]
       ],
       "ok": true,
       "status": 200,
       "status_text": ""
      }
     }
    },
    "id": "VE3yQgbFB61p",
    "outputId": "959ad38c-018b-4c3b-f098-fc8d0c9e5030"
   },
   "outputs": [],
   "source": [
    "#from google.colab import files\n",
    "#uploaded = files.upload()"
   ]
  },
  {
   "cell_type": "code",
   "execution_count": 269,
   "metadata": {
    "colab": {
     "base_uri": "https://localhost:8080/",
     "height": 206
    },
    "id": "hEhmfRD637EW",
    "outputId": "11858a6f-da26-43b6-86dd-7ce6840ee1cf"
   },
   "outputs": [
    {
     "data": {
      "text/html": [
       "<div>\n",
       "<style scoped>\n",
       "    .dataframe tbody tr th:only-of-type {\n",
       "        vertical-align: middle;\n",
       "    }\n",
       "\n",
       "    .dataframe tbody tr th {\n",
       "        vertical-align: top;\n",
       "    }\n",
       "\n",
       "    .dataframe thead th {\n",
       "        text-align: right;\n",
       "    }\n",
       "</style>\n",
       "<table border=\"1\" class=\"dataframe\">\n",
       "  <thead>\n",
       "    <tr style=\"text-align: right;\">\n",
       "      <th></th>\n",
       "      <th>user_id</th>\n",
       "      <th>item_id</th>\n",
       "      <th>rating</th>\n",
       "    </tr>\n",
       "  </thead>\n",
       "  <tbody>\n",
       "    <tr>\n",
       "      <th>0</th>\n",
       "      <td>772</td>\n",
       "      <td>36</td>\n",
       "      <td>3</td>\n",
       "    </tr>\n",
       "    <tr>\n",
       "      <th>1</th>\n",
       "      <td>471</td>\n",
       "      <td>228</td>\n",
       "      <td>5</td>\n",
       "    </tr>\n",
       "    <tr>\n",
       "      <th>2</th>\n",
       "      <td>641</td>\n",
       "      <td>401</td>\n",
       "      <td>4</td>\n",
       "    </tr>\n",
       "    <tr>\n",
       "      <th>3</th>\n",
       "      <td>312</td>\n",
       "      <td>98</td>\n",
       "      <td>4</td>\n",
       "    </tr>\n",
       "    <tr>\n",
       "      <th>4</th>\n",
       "      <td>58</td>\n",
       "      <td>504</td>\n",
       "      <td>5</td>\n",
       "    </tr>\n",
       "  </tbody>\n",
       "</table>\n",
       "</div>"
      ],
      "text/plain": [
       "   user_id  item_id  rating\n",
       "0      772       36       3\n",
       "1      471      228       5\n",
       "2      641      401       4\n",
       "3      312       98       4\n",
       "4       58      504       5"
      ]
     },
     "execution_count": 269,
     "metadata": {},
     "output_type": "execute_result"
    }
   ],
   "source": [
    "import pandas as pd\n",
    "data=pd.read_csv('ratings_train.csv')\n",
    "data.head()"
   ]
  },
  {
   "cell_type": "code",
   "execution_count": 270,
   "metadata": {
    "colab": {
     "base_uri": "https://localhost:8080/"
    },
    "id": "66ibGJ74hCde",
    "outputId": "1a75cca1-a6bc-426a-82f9-1525fa47760c"
   },
   "outputs": [
    {
     "data": {
      "text/plain": [
       "(89992, 3)"
      ]
     },
     "execution_count": 270,
     "metadata": {},
     "output_type": "execute_result"
    }
   ],
   "source": [
    "data.shape"
   ]
  },
  {
   "cell_type": "code",
   "execution_count": 271,
   "metadata": {
    "colab": {
     "base_uri": "https://localhost:8080/"
    },
    "id": "1iyROEvQChc_",
    "outputId": "bb7e0a85-f613-4645-bc77-a2a10e53055c"
   },
   "outputs": [
    {
     "name": "stdout",
     "output_type": "stream",
     "text": [
      "(943,)\n",
      "(1662,)\n",
      "1681\n"
     ]
    }
   ],
   "source": [
    "import numpy as np\n",
    "user_id_unique= np.unique(data['user_id'])\n",
    "item_id_unique=np.unique(data['item_id'])\n",
    "item_id_max=max(data['item_id']) +1\n",
    "print(user_id_unique.shape)\n",
    "print(item_id_unique.shape)\n",
    "print(item_id_max)\n"
   ]
  },
  {
   "cell_type": "code",
   "execution_count": 272,
   "metadata": {
    "id": "knv_lpLxDH54"
   },
   "outputs": [],
   "source": [
    "import networkx as nx \n",
    "\n",
    "user_id =data['user_id']\n",
    "movie_id=data['item_id']\n",
    "rating=data['rating']\n"
   ]
  },
  {
   "cell_type": "code",
   "execution_count": 273,
   "metadata": {
    "id": "Erz_hYF8ErVX"
   },
   "outputs": [],
   "source": [
    "G= nx.Graph()\n",
    "G.add_nodes_from(user_id_unique, biparted=0)\n",
    "G.add_nodes_from(item_id_unique, biparted=1)\n",
    "for i in range(data.shape[0]):\n",
    "  G.add_edge(user_id[i], movie_id[i], weight= rating[i])"
   ]
  },
  {
   "cell_type": "code",
   "execution_count": null,
   "metadata": {
    "id": "Hg2ufhwNFFqo"
   },
   "outputs": [],
   "source": [
    "\n",
    "  "
   ]
  },
  {
   "cell_type": "markdown",
   "metadata": {
    "id": "mvB8SDS_hW03"
   },
   "source": [
    "<font color='red'>Create your adjacency matrix </font>"
   ]
  },
  {
   "cell_type": "code",
   "execution_count": 274,
   "metadata": {
    "id": "t44MNT40hZQW"
   },
   "outputs": [],
   "source": [
    "from scipy.sparse import csr_matrix\n",
    "A= np.zeros((user_id_unique.shape[0], item_id_max))\n",
    "#print(user_id_unique[0:100], \"\\n\",item_id_unique[0:100])\n",
    "for i in range(A.shape[0]):\n",
    "  for j in range(A.shape[1]):\n",
    "    if (i,j) in G.edges:\n",
    "      A[i][j]=G[i][j]['weight']\n"
   ]
  },
  {
   "cell_type": "code",
   "execution_count": 275,
   "metadata": {
    "colab": {
     "base_uri": "https://localhost:8080/"
    },
    "id": "-mCgC0WbhZTO",
    "outputId": "12ee4e69-2f0e-469b-8dae-a4ce3ea7eedf"
   },
   "outputs": [
    {
     "name": "stdout",
     "output_type": "stream",
     "text": [
      "(943, 1681)\n"
     ]
    }
   ],
   "source": [
    "adjacent_matrix=(A)\n",
    "print(adjacent_matrix.shape)\n"
   ]
  },
  {
   "cell_type": "markdown",
   "metadata": {
    "id": "4acJD4ujEtD6"
   },
   "source": [
    "<font color='cyan'>Grader function - 1</font>"
   ]
  },
  {
   "cell_type": "code",
   "execution_count": 276,
   "metadata": {
    "colab": {
     "base_uri": "https://localhost:8080/"
    },
    "id": "2QuTzFBREsDV",
    "outputId": "be604fdc-71c7-4535-fd84-3dacd8dc2583"
   },
   "outputs": [
    {
     "data": {
      "text/plain": [
       "True"
      ]
     },
     "execution_count": 276,
     "metadata": {},
     "output_type": "execute_result"
    }
   ],
   "source": [
    "def grader_matrix(matrix):\n",
    "  assert(matrix.shape==(943,1681))\n",
    "  return True\n",
    "grader_matrix(adjacent_matrix)"
   ]
  },
  {
   "cell_type": "markdown",
   "metadata": {
    "id": "gXDf1RCUBsYN"
   },
   "source": [
    "<font color='red'> SVD decompostion</font>"
   ]
  },
  {
   "cell_type": "markdown",
   "metadata": {
    "id": "OJPWI9VwD_ih"
   },
   "source": [
    "Sample code for SVD decompostion"
   ]
  },
  {
   "cell_type": "code",
   "execution_count": 277,
   "metadata": {
    "colab": {
     "base_uri": "https://localhost:8080/"
    },
    "id": "GATD35bmBszc",
    "outputId": "09d78f86-fcd0-4def-f1a3-76fb79e51c47"
   },
   "outputs": [
    {
     "name": "stdout",
     "output_type": "stream",
     "text": [
      "(20, 5)\n",
      "(5,)\n",
      "(10, 5)\n"
     ]
    }
   ],
   "source": [
    "from sklearn.utils.extmath import randomized_svd\n",
    "import numpy as np \n",
    "matrix = np.random.random((20, 10))\n",
    "U, Sigma, VT = randomized_svd(matrix, n_components=5,n_iter=5, random_state=None)\n",
    "print(U.shape)\n",
    "print(Sigma.shape)\n",
    "print(VT.T.shape)"
   ]
  },
  {
   "cell_type": "markdown",
   "metadata": {
    "id": "ePDgwALQEJoB"
   },
   "source": [
    "<font color='red'>Write your code for SVD decompostion</font>"
   ]
  },
  {
   "cell_type": "code",
   "execution_count": 278,
   "metadata": {
    "colab": {
     "base_uri": "https://localhost:8080/"
    },
    "id": "ZYnsKBmFEIg3",
    "outputId": "fb306d19-80bc-4c6e-da55-6701250d93b0"
   },
   "outputs": [
    {
     "name": "stdout",
     "output_type": "stream",
     "text": [
      "(943, 300)\n",
      "(300,)\n",
      "(1681, 300)\n"
     ]
    }
   ],
   "source": [
    "# Please use adjacency_matrix as matrix for SVD decompostion\n",
    "# You can choose n_components as your choice\n",
    "U, Sigma, VT = randomized_svd(adjacent_matrix, n_components=300,n_iter=5, random_state=None)\n",
    "print(U.shape)\n",
    "print(Sigma.shape)\n",
    "print(VT.T.shape)\n"
   ]
  },
  {
   "cell_type": "markdown",
   "metadata": {
    "id": "83Vh4NoO_JyU"
   },
   "source": [
    "<font color='red'>Compute mean of ratings</font>"
   ]
  },
  {
   "cell_type": "code",
   "execution_count": 279,
   "metadata": {
    "id": "cBHuCn2QSEnl"
   },
   "outputs": [],
   "source": [
    "def m_u(ratings):\n",
    "    '''In this function, we will compute mean for all the ratings'''\n",
    "    # you can use mean() function to do this\n",
    "    # check this (https://pandas.pydata.org/pandas-docs/stable/reference/api/pandas.DataFrame.mean.html) link for more details.\n",
    "    u_m=np.mean(ratings)\n",
    "    \n",
    "\n",
    "    return u_m"
   ]
  },
  {
   "cell_type": "code",
   "execution_count": 280,
   "metadata": {
    "colab": {
     "base_uri": "https://localhost:8080/"
    },
    "id": "iu1nn-1x3ebp",
    "outputId": "ea115387-a3fe-4cc6-8ed0-71b249d348fb"
   },
   "outputs": [
    {
     "name": "stdout",
     "output_type": "stream",
     "text": [
      "3.529480398257623\n"
     ]
    }
   ],
   "source": [
    "mu=m_u(rating)\n",
    "print(mu)"
   ]
  },
  {
   "cell_type": "markdown",
   "metadata": {
    "id": "76ooYQIdG_tf"
   },
   "source": [
    "<font color='cyan'>Grader function -2 </font>"
   ]
  },
  {
   "cell_type": "code",
   "execution_count": 281,
   "metadata": {
    "colab": {
     "base_uri": "https://localhost:8080/"
    },
    "id": "TZy1m67oG9r9",
    "outputId": "83f6ace5-f60b-42b9-d029-393f41a1b7c7"
   },
   "outputs": [
    {
     "data": {
      "text/plain": [
       "True"
      ]
     },
     "execution_count": 281,
     "metadata": {},
     "output_type": "execute_result"
    }
   ],
   "source": [
    "def grader_mean(mu):\n",
    "  assert(np.round(mu,3)==3.529)\n",
    "  return True\n",
    "mu=m_u(data['rating'])\n",
    "grader_mean(mu)"
   ]
  },
  {
   "cell_type": "markdown",
   "metadata": {
    "id": "qSvAW1X94g3G"
   },
   "source": [
    "<font color='red'>Initialize $B_{i}$ and $C_{j}$"
   ]
  },
  {
   "cell_type": "markdown",
   "metadata": {
    "id": "qsOl-4xq5aUG"
   },
   "source": [
    "Hint : Number of rows of adjacent matrix corresponds to user dimensions($B_{i}$), number of columns of adjacent matrix corresponds to movie dimensions ($C_{j}$)"
   ]
  },
  {
   "cell_type": "code",
   "execution_count": 282,
   "metadata": {
    "id": "AyEJqPka4lBW"
   },
   "outputs": [],
   "source": [
    "def initialize(dim):\n",
    "    '''In this function, we will initialize bias value 'B' and 'C'.'''\n",
    "    # initalize the value to zeros \n",
    "    # return output as a list of zeros \n",
    "    inti=np.zeros(dim)\n",
    "    \n",
    "    \n",
    "\n",
    "    return inti"
   ]
  },
  {
   "cell_type": "code",
   "execution_count": 283,
   "metadata": {
    "id": "Nlae9QAQ43Xz"
   },
   "outputs": [],
   "source": [
    "dim= adjacent_matrix.shape[0] # give the number of dimensions for b_i (Here b_i corresponds to users)\n",
    "b_i=initialize(dim)"
   ]
  },
  {
   "cell_type": "code",
   "execution_count": 284,
   "metadata": {
    "id": "rwuopn4HoEbP"
   },
   "outputs": [],
   "source": [
    "dim= adjacent_matrix.shape[1] # give the number of dimensions for c_j (Here c_j corresponds to movies)\n",
    "c_j=initialize(dim)"
   ]
  },
  {
   "cell_type": "markdown",
   "metadata": {
    "id": "nfPJ3_h6JIkI"
   },
   "source": [
    "<font color='cyan'>Grader function -3 </font>"
   ]
  },
  {
   "cell_type": "code",
   "execution_count": 285,
   "metadata": {
    "colab": {
     "base_uri": "https://localhost:8080/"
    },
    "id": "dQhiNjw0Hz4m",
    "outputId": "53b7721e-bc80-4210-bdf3-054d82eb32f5"
   },
   "outputs": [
    {
     "data": {
      "text/plain": [
       "True"
      ]
     },
     "execution_count": 285,
     "metadata": {},
     "output_type": "execute_result"
    }
   ],
   "source": [
    "def grader_dim(b_i,c_j):\n",
    "  assert(len(b_i)==943 and np.sum(b_i)==0)\n",
    "  assert(len(c_j)==1681 and np.sum(c_j)==0)\n",
    "  return True\n",
    "grader_dim(b_i,c_j)"
   ]
  },
  {
   "cell_type": "markdown",
   "metadata": {
    "id": "DTDK4ZR18MrZ"
   },
   "source": [
    "<font color='red'>Compute dL/db_i</font>"
   ]
  },
  {
   "cell_type": "code",
   "execution_count": 286,
   "metadata": {
    "id": "3NFzVC1N8S4L"
   },
   "outputs": [],
   "source": [
    "def derivative_db(user_id,item_id,rating,U,V, mu,alpha, b_i, c_j):\n",
    "    \n",
    "    reg= alpha*2*((b_i[user_id]))\n",
    "    \n",
    "    db= -2*(- np.round(np.dot(U.T[:,user_id], V.T[item_id]),3) -b_i[user_id]- c_j[item_id] - mu + rating)  + reg\n",
    "    \n",
    "    return db\n"
   ]
  },
  {
   "cell_type": "markdown",
   "metadata": {
    "id": "ilISrTeQ0f0v"
   },
   "source": [
    "<font color='cyan'>Grader function -4 </font>"
   ]
  },
  {
   "cell_type": "code",
   "execution_count": 287,
   "metadata": {
    "colab": {
     "base_uri": "https://localhost:8080/"
    },
    "id": "Wt5ixEVZ043U",
    "outputId": "0cf0863a-634a-4f62-a7b3-a3f7c22e499f"
   },
   "outputs": [
    {
     "data": {
      "text/plain": [
       "True"
      ]
     },
     "execution_count": 287,
     "metadata": {},
     "output_type": "execute_result"
    }
   ],
   "source": [
    "def grader_db(value):\n",
    "    assert(np.round(value,3)==-0.931)\n",
    "    return True\n",
    "U1, Sigma, V1 = randomized_svd(adjacent_matrix, n_components=2,n_iter=5, random_state=24)\n",
    "# Please don't change random state\n",
    "# Here we are considering n_componets = 2 for our convinence\n",
    "alpha=0.01 \n",
    "#print(U1.shape)\n",
    "A2= np.dot(U1, V1)\n",
    "value=derivative_db(312,98,4,U1,V1, mu,alpha, b_i, c_j)\n",
    "grader_db(value)"
   ]
  },
  {
   "cell_type": "markdown",
   "metadata": {
    "id": "1Kp0hC_b9v60"
   },
   "source": [
    "<font color='red'>Compute dL/dc_j</font>"
   ]
  },
  {
   "cell_type": "code",
   "execution_count": 288,
   "metadata": {
    "id": "FAtSYMrc9UqJ"
   },
   "outputs": [],
   "source": [
    "def derivative_dc(user_id,item_id,rating,U,V,mu, alpha, b_i, c_j):\n",
    "    \n",
    "    \n",
    "    \n",
    "    reg= alpha*2*((c_j[item_id]))\n",
    "    dc= -2*(- np.dot(U.T[:,user_id],V.T[item_id]) -b_i[user_id]- c_j[item_id] - mu + rating)  + reg\n",
    "   \n",
    "    \n",
    "    return dc\n"
   ]
  },
  {
   "cell_type": "markdown",
   "metadata": {
    "id": "lxkAm8aH1SBF"
   },
   "source": [
    "<font color='cyan'>Grader function - 5 </font>"
   ]
  },
  {
   "cell_type": "code",
   "execution_count": 289,
   "metadata": {
    "colab": {
     "base_uri": "https://localhost:8080/",
     "height": 322
    },
    "id": "RaIN9yie1US8",
    "outputId": "42aeddb2-0902-468b-a151-c510ab2389c9"
   },
   "outputs": [
    {
     "name": "stdout",
     "output_type": "stream",
     "text": [
      "-2.936138712381073\n"
     ]
    },
    {
     "ename": "AssertionError",
     "evalue": "",
     "output_type": "error",
     "traceback": [
      "\u001b[1;31m---------------------------------------------------------------------------\u001b[0m",
      "\u001b[1;31mAssertionError\u001b[0m                            Traceback (most recent call last)",
      "\u001b[1;32m<ipython-input-289-c3a01c5458dd>\u001b[0m in \u001b[0;36m<module>\u001b[1;34m\u001b[0m\n\u001b[0;32m     10\u001b[0m \u001b[0mvalue\u001b[0m\u001b[1;33m=\u001b[0m\u001b[0mderivative_dc\u001b[0m\u001b[1;33m(\u001b[0m\u001b[1;36m58\u001b[0m\u001b[1;33m,\u001b[0m\u001b[1;36m504\u001b[0m\u001b[1;33m,\u001b[0m\u001b[1;36m5\u001b[0m\u001b[1;33m,\u001b[0m\u001b[0mU1\u001b[0m\u001b[1;33m,\u001b[0m\u001b[0mV1\u001b[0m\u001b[1;33m,\u001b[0m\u001b[0mmu\u001b[0m\u001b[1;33m,\u001b[0m\u001b[0mr\u001b[0m\u001b[1;33m,\u001b[0m \u001b[0mb_i\u001b[0m\u001b[1;33m,\u001b[0m \u001b[0mc_j\u001b[0m\u001b[1;33m)\u001b[0m\u001b[1;33m\u001b[0m\u001b[1;33m\u001b[0m\u001b[0m\n\u001b[0;32m     11\u001b[0m \u001b[0mprint\u001b[0m\u001b[1;33m(\u001b[0m\u001b[0mvalue\u001b[0m\u001b[1;33m)\u001b[0m\u001b[1;33m\u001b[0m\u001b[1;33m\u001b[0m\u001b[0m\n\u001b[1;32m---> 12\u001b[1;33m \u001b[0mgrader_dc\u001b[0m\u001b[1;33m(\u001b[0m\u001b[0mvalue\u001b[0m\u001b[1;33m)\u001b[0m\u001b[1;33m\u001b[0m\u001b[1;33m\u001b[0m\u001b[0m\n\u001b[0m",
      "\u001b[1;32m<ipython-input-289-c3a01c5458dd>\u001b[0m in \u001b[0;36mgrader_dc\u001b[1;34m(value)\u001b[0m\n\u001b[0;32m      1\u001b[0m \u001b[1;32mdef\u001b[0m \u001b[0mgrader_dc\u001b[0m\u001b[1;33m(\u001b[0m\u001b[0mvalue\u001b[0m\u001b[1;33m)\u001b[0m\u001b[1;33m:\u001b[0m\u001b[1;33m\u001b[0m\u001b[1;33m\u001b[0m\u001b[0m\n\u001b[1;32m----> 2\u001b[1;33m     \u001b[1;32massert\u001b[0m\u001b[1;33m(\u001b[0m\u001b[0mnp\u001b[0m\u001b[1;33m.\u001b[0m\u001b[0mround\u001b[0m\u001b[1;33m(\u001b[0m\u001b[0mvalue\u001b[0m\u001b[1;33m,\u001b[0m\u001b[1;36m3\u001b[0m\u001b[1;33m)\u001b[0m\u001b[1;33m==\u001b[0m\u001b[1;33m-\u001b[0m\u001b[1;36m2.929\u001b[0m\u001b[1;33m)\u001b[0m\u001b[1;33m\u001b[0m\u001b[1;33m\u001b[0m\u001b[0m\n\u001b[0m\u001b[0;32m      3\u001b[0m     \u001b[1;32mreturn\u001b[0m \u001b[1;32mTrue\u001b[0m\u001b[1;33m\u001b[0m\u001b[1;33m\u001b[0m\u001b[0m\n\u001b[0;32m      4\u001b[0m \u001b[0mU1\u001b[0m\u001b[1;33m,\u001b[0m \u001b[0mSigma\u001b[0m\u001b[1;33m,\u001b[0m \u001b[0mV1\u001b[0m \u001b[1;33m=\u001b[0m \u001b[0mrandomized_svd\u001b[0m\u001b[1;33m(\u001b[0m\u001b[0madjacent_matrix\u001b[0m\u001b[1;33m,\u001b[0m \u001b[0mn_components\u001b[0m\u001b[1;33m=\u001b[0m\u001b[1;36m2\u001b[0m\u001b[1;33m,\u001b[0m\u001b[0mn_iter\u001b[0m\u001b[1;33m=\u001b[0m\u001b[1;36m5\u001b[0m\u001b[1;33m,\u001b[0m \u001b[0mrandom_state\u001b[0m\u001b[1;33m=\u001b[0m\u001b[1;36m24\u001b[0m\u001b[1;33m)\u001b[0m\u001b[1;33m\u001b[0m\u001b[1;33m\u001b[0m\u001b[0m\n\u001b[0;32m      5\u001b[0m \u001b[1;31m# Please don't change random state\u001b[0m\u001b[1;33m\u001b[0m\u001b[1;33m\u001b[0m\u001b[1;33m\u001b[0m\u001b[0m\n",
      "\u001b[1;31mAssertionError\u001b[0m: "
     ]
    }
   ],
   "source": [
    "def grader_dc(value):\n",
    "    assert(np.round(value,3)==-2.929)\n",
    "    return True\n",
    "U1, Sigma, V1 = randomized_svd(adjacent_matrix, n_components=2,n_iter=5, random_state=24)\n",
    "# Please don't change random state\n",
    "# Here we are considering n_componets = 2 for our convinence\n",
    "r=0.01 \n",
    "A1= np.dot(U1, V1)\n",
    "#print(adjacent_matrix[58][504])\n",
    "value=derivative_dc(58,504,5,U1,V1,mu,r, b_i, c_j)\n",
    "print(value)\n",
    "grader_dc(value)"
   ]
  },
  {
   "cell_type": "markdown",
   "metadata": {
    "id": "lg5XNbDWCIKI"
   },
   "source": [
    "<font color='red'>Compute MSE (mean squared error) for predicted ratings</font>\n"
   ]
  },
  {
   "cell_type": "markdown",
   "metadata": {
    "id": "7WUjNy0TDQX6"
   },
   "source": [
    "for each epoch, print the MSE value"
   ]
  },
  {
   "cell_type": "markdown",
   "metadata": {
    "id": "D2pCy1AKCafw"
   },
   "source": [
    "<pre>\n",
    "for each epoch:\n",
    "\n",
    "    for each pair of (user, movie):\n",
    "\n",
    "        b_i =  b_i - learning_rate * dL/db_i\n",
    "\n",
    "        c_j =  c_j - learning_rate * dL/dc_j\n",
    "\n",
    "predict the ratings with formula\n",
    "</pre>\n",
    "\n",
    "$\\hat{y}_{ij} = \\mu + b_i + c_j + \\text{dot_product}(u_i , v_j) $"
   ]
  },
  {
   "cell_type": "code",
   "execution_count": 290,
   "metadata": {
    "id": "YIVzPQjwOz_Q"
   },
   "outputs": [],
   "source": [
    "def predict_y(u,b_i,c_i,U,V, item_id, user_id,n):\n",
    "  y_pre=[]\n",
    "  for i in range(n):\n",
    "    y_dash= u + np.dot(U.T[:,user_id[i]],V.T[item_id[i]]) + b_i[user_id[i]] + c_i[item_id[i]]\n",
    "    y_pre.append(y_dash)\n",
    "  return y_pre\n",
    "\n",
    "\n"
   ]
  },
  {
   "cell_type": "code",
   "execution_count": 296,
   "metadata": {
    "id": "kiKj-M6d2a-Y"
   },
   "outputs": [],
   "source": [
    "from sklearn.metrics import mean_squared_error\n",
    "epoch=30\n",
    "alpha=0.01\n",
    "eta=0.001\n",
    "n=data.shape[0]\n",
    "def SVD(epoch,n, A, U,V,user_id,item_id,mu,rating):\n",
    "    mse=[]\n",
    "    b_i=initialize(A.shape[0])\n",
    "    c_j=initialize(A.shape[1])\n",
    "    user= A.shape[0]\n",
    "    item= A.shape[1]\n",
    "\n",
    "    #mul= np.dot(U.T,V.T)\n",
    "    \n",
    "    for epo in range(epoch):\n",
    "        \n",
    "        for u in range(user):\n",
    "            for i in range(item):\n",
    "                if A[u][i]>0:\n",
    "                    \n",
    "            \n",
    "                    #db= derivative_db(u,i,A[u][i],U,V,mu, 0.01, b_i, c_j)\n",
    "                    #dc= derivative_dc(u,i,A[u][i],U,V,mu, 0.01, b_i, c_j)\n",
    "        \n",
    "                    b_i[u]=b_i[u] - 0.1*(derivative_db(u,i,A[u][i],U,V,mu, 0.1, b_i, c_j) )\n",
    "                    c_j[i]=c_j[i] - 0.1*(derivative_db(u,i,A[u][i],U,V,mu, 0.1, b_i, c_j))\n",
    "        print(\"b_i\", b_i[0:10])\n",
    "        #print(\"c\",c)\n",
    "        print(\"c_i\", c_j[0:10])\n",
    "        \n",
    "        y_p=predict_y(mu,b_i,c_j,U,V, item_id, user_id,n)\n",
    "        \n",
    "        A_dash=np.zeros((user, item))\n",
    "        '''for uu in range(user):\n",
    "            for ii in range(item):\n",
    "                if A[u][i]>0:\n",
    "                    y_dash= mu + np.dot(U.T[:,uu],V.T[ii]) + b_i[uu] + c_j[ii]\n",
    "                    A_dash[uu][ii]=y_dash'''\n",
    "        \n",
    "        mse_epo= mean_squared_error(rating, y_p)\n",
    "        \n",
    "\n",
    "        print(\"\\n The MSE for epoch \", epo, \" is \" ,mse_epo)\n",
    "        mse.append(mse_epo)\n",
    "        \n",
    "      \n",
    "    return mse, b_i, c_j\n",
    "\n",
    "        \n",
    "\n"
   ]
  },
  {
   "cell_type": "code",
   "execution_count": 297,
   "metadata": {
    "id": "5qZ-sS4oQgWL"
   },
   "outputs": [
    {
     "name": "stdout",
     "output_type": "stream",
     "text": [
      "b_i [ 0.18688049  0.09224907 -0.49216144 -0.35539587 -0.0281166  -0.16216456\n",
      "  0.30578761  0.29712103 -0.06249921  0.18361758]\n",
      "c_i [ 0.21130657 -0.0424848  -0.62610681 -0.30813474 -0.15097561 -0.17164667\n",
      "  0.31663561  0.2825693   0.03275061  0.16151976]\n",
      "\n",
      " The MSE for epoch  0  is  1.226883144734592\n",
      "b_i [ 0.23618746  0.27637543 -0.41981242  0.04334365  0.08310091  0.01146767\n",
      "  0.40415042  0.57677018  0.13078556  0.31372983]\n",
      "c_i [ 0.30883716  0.3194732  -0.47713096  0.3563887   0.03721127  0.06284834\n",
      "  0.57327475  0.58223683  0.19081815  0.39116699]\n",
      "\n",
      " The MSE for epoch  1  is  1.1194917604034964\n",
      "b_i [ 0.24393275  0.28386088 -0.41319886  0.05581718  0.08039953 -0.01979758\n",
      "  0.42014671  0.5898437   0.14738937  0.30810014]\n",
      "c_i [ 0.24379743  0.23919883 -0.53081727  0.27701126 -0.03684326 -0.0116194\n",
      "  0.51475749  0.52282529  0.12999156  0.3141576 ]\n",
      "\n",
      " The MSE for epoch  2  is  1.1093226223335244\n",
      "b_i [ 0.14992152  0.18805833 -0.50297708 -0.0414905  -0.010984   -0.08907507\n",
      "  0.32399683  0.49268468  0.0503      0.21785259]\n",
      "c_i [ 0.2747483   0.24810799 -0.51405576  0.28426231 -0.01955997 -0.01469529\n",
      "  0.54895164  0.56069015  0.17257581  0.32001025]\n",
      "\n",
      " The MSE for epoch  3  is  1.1011294817268118\n",
      "b_i [ 0.17610385  0.21636844 -0.47899982 -0.01509214  0.02039422 -0.05722435\n",
      "  0.34719728  0.51858085  0.07409676  0.25006434]\n",
      "c_i [ 0.27032062  0.24180467 -0.51947879  0.27952484 -0.02426361 -0.01547269\n",
      "  0.53955035  0.5515283   0.16360294  0.31447565]\n",
      "\n",
      " The MSE for epoch  4  is  1.0996055764929344\n",
      "b_i [ 0.16802392  0.20712122 -0.48678334 -0.02266405  0.00789334 -0.07514224\n",
      "  0.34155051  0.51132252  0.068181    0.23673234]\n",
      "c_i [ 0.27060089  0.23844332 -0.52149137  0.27697493 -0.02749326 -0.02624668\n",
      "  0.5411395   0.55180007  0.16512624  0.30803932]\n",
      "\n",
      " The MSE for epoch  5  is  1.0989191289135836\n",
      "b_i [ 0.15951074  0.19893552 -0.49502513 -0.03170595  0.00150095 -0.07733818\n",
      "  0.33179412  0.50215983  0.05846213  0.23079098]\n",
      "c_i [ 0.27679553  0.24275065 -0.51836055  0.281358   -0.02228493 -0.02484401\n",
      "  0.5466754   0.55796369  0.17173041  0.31055119]\n",
      "\n",
      " The MSE for epoch  6  is  1.0977920328928126\n",
      "b_i [ 0.1629352   0.20244355 -0.49190709 -0.0280719   0.00465637 -0.07565671\n",
      "  0.33538142  0.50579     0.06209305  0.23386389]\n",
      "c_i [ 0.2764257   0.2423775  -0.51957555  0.28141643 -0.0228826  -0.02692533\n",
      "  0.54589217  0.55687793  0.17072244  0.30875187]\n",
      "\n",
      " The MSE for epoch  7  is  1.0976026252211077\n",
      "b_i [ 1.58918267e-01  1.98279455e-01 -4.95780837e-01 -3.21319506e-02\n",
      "  3.29962435e-04 -7.99022173e-02  3.31518118e-01  5.01760680e-01\n",
      "  5.81852175e-02  2.29493890e-01]\n",
      "c_i [ 0.27847201  0.24386138 -0.51889859  0.28298348 -0.02143489 -0.02785905\n",
      "  0.54817558  0.55911649  0.17317758  0.30871979]\n",
      "\n",
      " The MSE for epoch  8  is  1.0972329185366612\n",
      "b_i [ 1.58063104e-01  1.97512316e-01 -4.96668746e-01 -3.30308873e-02\n",
      " -1.85730059e-04 -8.00144388e-02  3.30466261e-01  5.00837005e-01\n",
      "  5.71533112e-02  2.29043061e-01]\n",
      "c_i [ 0.27977547  0.24518143 -0.51851409  0.28436229 -0.02019931 -0.02753623\n",
      "  0.54935858  0.56036712  0.17445643  0.30902277]\n",
      "\n",
      " The MSE for epoch  9  is  1.096971144316334\n",
      "b_i [ 0.15740767  0.19683105 -0.49734419 -0.03365617 -0.00098577 -0.08109075\n",
      "  0.32988894  0.50021991  0.056572    0.22821355]\n",
      "c_i [ 0.28044002  0.24593577 -0.51848603  0.28516598 -0.0196403  -0.02771243\n",
      "  0.55011932  0.56107144  0.17519417  0.30887555]\n",
      "\n",
      " The MSE for epoch  10  is  1.0968152054326337\n",
      "b_i [ 0.15615479  0.19557371 -0.49857771 -0.03493035 -0.00220368 -0.08217757\n",
      "  0.32861048  0.49894483  0.05529033  0.22700548]\n",
      "c_i [ 0.28136314  0.24693171 -0.51817514  0.28614886 -0.0187803  -0.02739203\n",
      "  0.5511545   0.56212663  0.17627571  0.30913375]\n",
      "\n",
      " The MSE for epoch  11  is  1.0966429518363028\n",
      "b_i [ 0.15559825  0.19502729 -0.49914667 -0.0354874  -0.00273325 -0.08270493\n",
      "  0.3280363   0.49838513  0.05471897  0.22648062]\n",
      "c_i [ 0.28194117  0.24768152 -0.51803174  0.28688835 -0.01818425 -0.02703117\n",
      "  0.5518265   0.56280161  0.17695071  0.30930477]\n",
      "\n",
      " The MSE for epoch  12  is  1.0965191095069926\n",
      "b_i [ 0.15492296  0.19434548 -0.4998206  -0.03616322 -0.00342685 -0.08341533\n",
      "  0.3273685   0.49771064  0.05404943  0.22578415]\n",
      "c_i [ 0.28245164  0.24835101 -0.51788316  0.28753513 -0.01765665 -0.02667922\n",
      "  0.55247234  0.56344544  0.17759899  0.30948471]\n",
      "\n",
      " The MSE for epoch  13  is  1.096410903032962\n",
      "b_i [ 0.15434202  0.19376649 -0.50040142 -0.03674906 -0.00399236 -0.08395282\n",
      "  0.3267765   0.4971238   0.05345755  0.22522219]\n",
      "c_i [ 0.28290168  0.24897012 -0.51772925  0.28812517 -0.01715959 -0.02625554\n",
      "  0.55305039  0.56403086  0.17818309  0.30970781]\n",
      "\n",
      " The MSE for epoch  14  is  1.0963138314597016\n",
      "b_i [ 0.15388122  0.19330581 -0.50086451 -0.03721057 -0.00445232 -0.08441602\n",
      "  0.32631347  0.49666208  0.05299455  0.22476257]\n",
      "c_i [ 0.28325069  0.24949355 -0.51761019  0.28862047 -0.0167481  -0.0258574\n",
      "  0.55353098  0.56451345  0.17866235  0.30990512]\n",
      "\n",
      " The MSE for epoch  15  is  1.0962318766652346\n",
      "b_i [ 0.15343759  0.19286139 -0.50130802 -0.03765614 -0.00489457 -0.08485256\n",
      "  0.32586738  0.49621642  0.05254811  0.22432096]\n",
      "c_i [ 0.28355749  0.24996651 -0.51749105  0.28906399 -0.01637073 -0.0254657\n",
      "  0.55397132  0.56495712  0.17910332  0.31010715]\n",
      "\n",
      " The MSE for epoch  16  is  1.0961572602952738\n",
      "b_i [ 0.15306013  0.1924843  -0.50168629 -0.03803519 -0.00526813 -0.08522048\n",
      "  0.32548634  0.49583706  0.05216707  0.22394839]\n",
      "c_i [ 0.28381315  0.25038466 -0.51738315  0.28945402 -0.01603456 -0.0250879\n",
      "  0.5543561   0.5653453   0.17948812  0.31030203]\n",
      "\n",
      " The MSE for epoch  17  is  1.0960901867950585\n",
      "b_i [ 0.15272333  0.19214725 -0.50202367 -0.03837306 -0.00560385 -0.08555436\n",
      "  0.32514773  0.49549909  0.05182833  0.22361309]\n",
      "c_i [ 0.28402768  0.25075403 -0.51728442  0.28979693 -0.01573493 -0.02473484\n",
      "  0.55469723  0.56568889  0.17982895  0.31048551]\n",
      "\n",
      " The MSE for epoch  18  is  1.096029123825751\n",
      "b_i [ 0.15241946  0.19184329 -0.5023279  -0.0386781  -0.00590588 -0.08585285\n",
      "  0.32484175  0.4951939   0.05152225  0.22331162]\n",
      "c_i [ 0.28421151  0.25108425 -0.51719105  0.2901023  -0.0154627  -0.02440241\n",
      "  0.55500313  0.56599726  0.18013522  0.31066097]\n",
      "\n",
      " The MSE for epoch  19  is  1.0959724742692447\n",
      "b_i [ 0.15214996  0.19157376 -0.50259786 -0.03894851 -0.00617389 -0.0861185\n",
      "  0.32457049  0.49492335  0.05125093  0.22304407]\n",
      "c_i [ 0.28436684  0.25137774 -0.51710463  0.2903729  -0.01521721 -0.02409328\n",
      "  0.55527535  0.56627142  0.18040795  0.31082541]\n",
      "\n",
      " The MSE for epoch  20  is  1.0959197548766728\n",
      "b_i [ 0.15190653  0.19133022 -0.50284162 -0.03919275 -0.00641621 -0.08635881\n",
      "  0.32432562  0.49467901  0.05100598  0.2228021 ]\n",
      "c_i [ 0.28449964  0.25163981 -0.51702361  0.2906139  -0.0149942  -0.0238069\n",
      "  0.55551979  0.5665173   0.18065327  0.31097946]\n",
      "\n",
      " The MSE for epoch  21  is  1.095870133126429\n",
      "b_i [ 0.15168717  0.1911108  -0.5030613  -0.03941285 -0.00663446 -0.08657511\n",
      "  0.3241049   0.49445882  0.0507852   0.2225842 ]\n",
      "c_i [ 0.28461349  0.25187426 -0.51694761  0.29082904 -0.01479104 -0.02354192\n",
      "  0.55573953  0.56673803  0.18087425  0.31112339]\n",
      "\n",
      " The MSE for epoch  22  is  1.095823101781793\n",
      "b_i [ 0.151489    0.19091256 -0.50325975 -0.03961165 -0.00683173 -0.08677082\n",
      "  0.32390559  0.49425994  0.05058583  0.22238722]\n",
      "c_i [ 0.28471127  0.25208413 -0.51687645  0.29102125 -0.01460579 -0.02329762\n",
      "  0.55593742  0.56693637  0.18107366  0.3112572 ]\n",
      "\n",
      " The MSE for epoch  23  is  1.0957782923067787\n",
      "b_i [ 0.1513091   0.1907326  -0.50343989 -0.03979212 -0.00701083 -0.0869485\n",
      "  0.32372467  0.4940794   0.05040486  0.22220838]\n",
      "c_i [ 0.28479585  0.25227247 -0.51680963  0.29119344 -0.01443634 -0.02307257\n",
      "  0.55611627  0.56711516  0.18125432  0.31138147]\n",
      "\n",
      " The MSE for epoch  24  is  1.0957353724142709\n",
      "b_i [ 0.15114564  0.19056908 -0.50360357 -0.03995608 -0.00717359 -0.08710999\n",
      "  0.3235603   0.49391537  0.05024044  0.22204585]\n",
      "c_i [ 0.2848693   0.2524417  -0.51674695  0.29134791 -0.01428112 -0.02286548\n",
      "  0.55627819  0.56727649  0.18141826  0.31149662]\n",
      "\n",
      " The MSE for epoch  25  is  1.0956941247731435\n",
      "b_i [ 0.15099666  0.19042004 -0.50375275 -0.04010551 -0.00732196 -0.08725726\n",
      "  0.32341051  0.49376588  0.05009061  0.22189768]\n",
      "c_i [ 0.28493347  0.252594   -0.51668815  0.29148672 -0.01413873 -0.02267508\n",
      "  0.55642513  0.56742233  0.18156739  0.31160312]\n",
      "\n",
      " The MSE for epoch  26  is  1.0956543775019996\n",
      "b_i [ 0.15086056  0.19028389 -0.50388901 -0.04024201 -0.00745751 -0.08739181\n",
      "  0.32327371  0.49362933  0.04995377  0.22176231]\n",
      "c_i [ 0.28498992  0.25273129 -0.516633    0.29161166 -0.01400789 -0.02250009\n",
      "  0.55655877  0.56755437  0.18170335  0.3117015 ]\n",
      "\n",
      " The MSE for epoch  27  is  1.0956160039680058\n",
      "b_i [ 0.15073601  0.19015929 -0.50401372 -0.04036692 -0.00758158 -0.08751499\n",
      "  0.32314852  0.49350438  0.04982854  0.2216384 ]\n",
      "c_i [ 0.2850399   0.25285523 -0.51658131  0.29172426 -0.01388754 -0.02233933\n",
      "  0.55668056  0.56767409  0.18182754  0.31179226]\n",
      "\n",
      " The MSE for epoch  28  is  1.0955789167528829\n",
      "b_i [ 0.15062178  0.19004502 -0.50412809 -0.04048147 -0.00769538 -0.08762799\n",
      "  0.32303372  0.49338978  0.04971371  0.22152474]\n",
      "c_i [ 0.28508448  0.25296727 -0.51653287  0.29182591 -0.01377671 -0.02219166\n",
      "  0.55679176  0.56778278  0.1819412   0.31187591]\n",
      "\n",
      " The MSE for epoch  29  is  1.0955430521818217\n"
     ]
    }
   ],
   "source": [
    "#print(user_id.shape)\n",
    "\n",
    "mse, b_i, c_j=SVD(epoch,n, adjacent_matrix, U,VT, user_id, movie_id, mu,rating)"
   ]
  },
  {
   "cell_type": "markdown",
   "metadata": {
    "id": "hTXYZFFUVSg5"
   },
   "source": [
    "<font color='red'>Plot epoch number vs MSE </font>\n",
    "\n",
    "* epoch number on X-axis\n",
    "* MSE on Y-axis"
   ]
  },
  {
   "cell_type": "code",
   "execution_count": 298,
   "metadata": {
    "id": "igkkO3EvVRt6"
   },
   "outputs": [
    {
     "name": "stdout",
     "output_type": "stream",
     "text": [
      "[1.226883144734592, 1.1194917604034964, 1.1093226223335244, 1.1011294817268118, 1.0996055764929344, 1.0989191289135836, 1.0977920328928126, 1.0976026252211077, 1.0972329185366612, 1.096971144316334, 1.0968152054326337, 1.0966429518363028, 1.0965191095069926, 1.096410903032962, 1.0963138314597016, 1.0962318766652346, 1.0961572602952738, 1.0960901867950585, 1.096029123825751, 1.0959724742692447, 1.0959197548766728, 1.095870133126429, 1.095823101781793, 1.0957782923067787, 1.0957353724142709, 1.0956941247731435, 1.0956543775019996, 1.0956160039680058, 1.0955789167528829, 1.0955430521818217]\n"
     ]
    },
    {
     "data": {
      "image/png": "[encoded data removed]",
      "text/plain": [
       "<Figure size 432x288 with 1 Axes>"
      ]
     },
     "metadata": {
      "needs_background": "light"
     },
     "output_type": "display_data"
    }
   ],
   "source": [
    "import matplotlib.pyplot as plt\n",
    "print(mse)\n",
    "epochs=[i for i in range(30)]\n",
    "plt.plot(epochs, mse)\n",
    "plt.xlabel(\"epoch\")\n",
    "plt.ylabel(\"MSE\")\n",
    "plt.title(\"Epoch vs MSE\")\n",
    "plt.show()"
   ]
  },
  {
   "cell_type": "code",
   "execution_count": null,
   "metadata": {
    "id": "2zguL6j1jif4"
   },
   "outputs": [],
   "source": [
    "# I am not able to identify the problem here and for grader function for dl/dc\n",
    "# Please let me know if both dl/db and dl/dc or correct "
   ]
  },
  {
   "cell_type": "markdown",
   "metadata": {
    "id": "NeWAGkT6C9kq"
   },
   "source": [
    "<br>"
   ]
  },
  {
   "cell_type": "markdown",
   "metadata": {
    "id": "lkIQOOo1C9o7"
   },
   "source": [
    "<font color='red'> Task 2</font>"
   ]
  },
  {
   "cell_type": "code",
   "execution_count": null,
   "metadata": {
    "id": "9kl4Ryi_7E_T"
   },
   "outputs": [],
   "source": [
    "#uploaded = files.upload()"
   ]
  },
  {
   "cell_type": "code",
   "execution_count": 259,
   "metadata": {
    "id": "c1FTc39gDdti"
   },
   "outputs": [
    {
     "data": {
      "text/html": [
       "<div>\n",
       "<style scoped>\n",
       "    .dataframe tbody tr th:only-of-type {\n",
       "        vertical-align: middle;\n",
       "    }\n",
       "\n",
       "    .dataframe tbody tr th {\n",
       "        vertical-align: top;\n",
       "    }\n",
       "\n",
       "    .dataframe thead th {\n",
       "        text-align: right;\n",
       "    }\n",
       "</style>\n",
       "<table border=\"1\" class=\"dataframe\">\n",
       "  <thead>\n",
       "    <tr style=\"text-align: right;\">\n",
       "      <th></th>\n",
       "      <th>user_id</th>\n",
       "      <th>age</th>\n",
       "      <th>is_male</th>\n",
       "      <th>orig_user_id</th>\n",
       "    </tr>\n",
       "  </thead>\n",
       "  <tbody>\n",
       "    <tr>\n",
       "      <th>0</th>\n",
       "      <td>0</td>\n",
       "      <td>24</td>\n",
       "      <td>1</td>\n",
       "      <td>1</td>\n",
       "    </tr>\n",
       "    <tr>\n",
       "      <th>1</th>\n",
       "      <td>1</td>\n",
       "      <td>53</td>\n",
       "      <td>0</td>\n",
       "      <td>2</td>\n",
       "    </tr>\n",
       "    <tr>\n",
       "      <th>2</th>\n",
       "      <td>2</td>\n",
       "      <td>23</td>\n",
       "      <td>1</td>\n",
       "      <td>3</td>\n",
       "    </tr>\n",
       "    <tr>\n",
       "      <th>3</th>\n",
       "      <td>3</td>\n",
       "      <td>24</td>\n",
       "      <td>1</td>\n",
       "      <td>4</td>\n",
       "    </tr>\n",
       "    <tr>\n",
       "      <th>4</th>\n",
       "      <td>4</td>\n",
       "      <td>33</td>\n",
       "      <td>0</td>\n",
       "      <td>5</td>\n",
       "    </tr>\n",
       "  </tbody>\n",
       "</table>\n",
       "</div>"
      ],
      "text/plain": [
       "   user_id  age  is_male  orig_user_id\n",
       "0        0   24        1             1\n",
       "1        1   53        0             2\n",
       "2        2   23        1             3\n",
       "3        3   24        1             4\n",
       "4        4   33        0             5"
      ]
     },
     "execution_count": 259,
     "metadata": {},
     "output_type": "execute_result"
    }
   ],
   "source": [
    "data2=pd.read_csv('user_info.csv')\n",
    "data2.head()"
   ]
  },
  {
   "cell_type": "code",
   "execution_count": 260,
   "metadata": {
    "id": "P_cBHyOakinL"
   },
   "outputs": [
    {
     "data": {
      "text/plain": [
       "(943, 4)"
      ]
     },
     "execution_count": 260,
     "metadata": {},
     "output_type": "execute_result"
    }
   ],
   "source": [
    "data2.shape"
   ]
  },
  {
   "cell_type": "code",
   "execution_count": null,
   "metadata": {
    "id": "AnJFlGisiJUu"
   },
   "outputs": [],
   "source": []
  },
  {
   "cell_type": "code",
   "execution_count": 261,
   "metadata": {
    "id": "DG72XCmzfWhv"
   },
   "outputs": [],
   "source": [
    "y_user_info= data2['is_male']\n",
    "x_user_info= data2.drop('is_male', axis=1)\n",
    "#x_user_info= data2.drop('orig_user_id', axis=1)"
   ]
  },
  {
   "cell_type": "code",
   "execution_count": 262,
   "metadata": {
    "id": "sUIw2z8kgOqy"
   },
   "outputs": [],
   "source": [
    "from sklearn.linear_model import LogisticRegression\n",
    "\n",
    "lr= LogisticRegression()\n",
    "model=lr.fit(x_user_info, y_user_info)\n"
   ]
  },
  {
   "cell_type": "code",
   "execution_count": 263,
   "metadata": {
    "id": "F8RDQYuogwM8"
   },
   "outputs": [
    {
     "name": "stdout",
     "output_type": "stream",
     "text": [
      "0.7104984093319194\n"
     ]
    }
   ],
   "source": [
    "y_user_acc= model.score(x_user_info, y_user_info)\n",
    "\n",
    "print(y_user_acc)"
   ]
  },
  {
   "cell_type": "code",
   "execution_count": null,
   "metadata": {
    "id": "2hXM7m7thMQ7"
   },
   "outputs": [],
   "source": []
  }
 ],
 "metadata": {
  "colab": {
   "collapsed_sections": [],
   "name": "Recommendation_system_assignment.ipynb",
   "provenance": []
  },
  "kernelspec": {
   "display_name": "Python 3",
   "language": "python",
   "name": "python3"
  },
  "language_info": {
   "codemirror_mode": {
    "name": "ipython",
    "version": 3
   },
   "file_extension": ".py",
   "mimetype": "text/x-python",
   "name": "python",
   "nbconvert_exporter": "python",
   "pygments_lexer": "ipython3",
   "version": "3.6.13"
  }
 },
 "nbformat": 4,
 "nbformat_minor": 1
}
